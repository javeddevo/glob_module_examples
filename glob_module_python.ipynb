{
 "cells": [
  {
   "cell_type": "code",
   "execution_count": 3,
   "id": "f83c54c5",
   "metadata": {},
   "outputs": [
    {
     "name": "stdout",
     "output_type": "stream",
     "text": [
      ".ipynb_checkpoints\n",
      "1.pdf\n",
      "2.pdf\n",
      "credit.pdf\n",
      "example.pdf\n",
      "file1.json\n",
      "merge.pdf\n",
      "merge_du.pdf\n",
      "offense.pdf\n",
      "pdf_file.ipynb\n",
      "rotated_example.pdf\n",
      "rotate_pdf.pdf\n",
      "Untitled.ipynb\n",
      "Untitled1.ipynb\n",
      "vsk.pdf\n",
      "zomato.ipynb\n",
      "zomato_final.ipynb\n"
     ]
    }
   ],
   "source": [
    "import glob as gl\n",
    "import os\n",
    "os.getcwd()\n",
    "for i in os.listdir(os.getcwd()):\n",
    "    print(i)"
   ]
  },
  {
   "cell_type": "code",
   "execution_count": 9,
   "id": "a0077a7f",
   "metadata": {},
   "outputs": [
    {
     "data": {
      "text/plain": [
       "['C:\\\\python\\\\1.pdf',\n",
       " 'C:\\\\python\\\\2.pdf',\n",
       " 'C:\\\\python\\\\credit.pdf',\n",
       " 'C:\\\\python\\\\example.pdf',\n",
       " 'C:\\\\python\\\\file1.json',\n",
       " 'C:\\\\python\\\\merge.pdf',\n",
       " 'C:\\\\python\\\\merge_du.pdf',\n",
       " 'C:\\\\python\\\\offense.pdf',\n",
       " 'C:\\\\python\\\\pdf_file.ipynb',\n",
       " 'C:\\\\python\\\\rotated_example.pdf',\n",
       " 'C:\\\\python\\\\rotate_pdf.pdf',\n",
       " 'C:\\\\python\\\\Untitled.ipynb',\n",
       " 'C:\\\\python\\\\Untitled1.ipynb',\n",
       " 'C:\\\\python\\\\vsk.pdf',\n",
       " 'C:\\\\python\\\\zomato.ipynb',\n",
       " 'C:\\\\python\\\\zomato_final.ipynb']"
      ]
     },
     "execution_count": 9,
     "metadata": {},
     "output_type": "execute_result"
    }
   ],
   "source": [
    "import glob # retrive the files form dir/path\n",
    "path=\"C:\\\\python\"\n",
    "glob.glob(\"C:\\\\python\\*\")"
   ]
  },
  {
   "cell_type": "markdown",
   "id": "e80fe84d",
   "metadata": {},
   "source": [
    "# listing all files with the extension "
   ]
  },
  {
   "cell_type": "code",
   "execution_count": 11,
   "id": "ec45ded3",
   "metadata": {},
   "outputs": [
    {
     "data": {
      "text/plain": [
       "['C:\\\\python\\\\1.pdf',\n",
       " 'C:\\\\python\\\\2.pdf',\n",
       " 'C:\\\\python\\\\credit.pdf',\n",
       " 'C:\\\\python\\\\example.pdf',\n",
       " 'C:\\\\python\\\\merge.pdf',\n",
       " 'C:\\\\python\\\\merge_du.pdf',\n",
       " 'C:\\\\python\\\\offense.pdf',\n",
       " 'C:\\\\python\\\\rotated_example.pdf',\n",
       " 'C:\\\\python\\\\rotate_pdf.pdf',\n",
       " 'C:\\\\python\\\\vsk.pdf']"
      ]
     },
     "execution_count": 11,
     "metadata": {},
     "output_type": "execute_result"
    }
   ],
   "source": [
    "import glob # retrive the files form dir/path\n",
    "path=\"C:\\\\python\"\n",
    "glob.glob(\"C:\\\\python\\*.pdf\") # extension pdf"
   ]
  },
  {
   "cell_type": "markdown",
   "id": "2e04c349",
   "metadata": {},
   "source": [
    "# search file  starts with and with extension"
   ]
  },
  {
   "cell_type": "code",
   "execution_count": 12,
   "id": "38299171",
   "metadata": {},
   "outputs": [
    {
     "data": {
      "text/plain": [
       "['C:\\\\python\\\\merge.pdf', 'C:\\\\python\\\\merge_du.pdf']"
      ]
     },
     "execution_count": 12,
     "metadata": {},
     "output_type": "execute_result"
    }
   ],
   "source": [
    "import glob \n",
    "path=\"C:\\\\python\"\n",
    "glob.glob(\"C:\\\\python\\m*.pdf\") # start with ma nd having extension .pdf"
   ]
  },
  {
   "cell_type": "markdown",
   "id": "9ad178bf",
   "metadata": {},
   "source": [
    "# search file endswith and with extension"
   ]
  },
  {
   "cell_type": "code",
   "execution_count": 13,
   "id": "c4ff4b3b",
   "metadata": {},
   "outputs": [
    {
     "data": {
      "text/plain": [
       "['C:\\\\python\\\\rotate_pdf.pdf']"
      ]
     },
     "execution_count": 13,
     "metadata": {},
     "output_type": "execute_result"
    }
   ],
   "source": [
    "import glob \n",
    "path=\"C:\\\\python\"\n",
    "glob.glob(\"C:\\\\python\\*f.pdf\") # ends with f"
   ]
  },
  {
   "cell_type": "markdown",
   "id": "6a0b2bb6",
   "metadata": {},
   "source": [
    "# search the files along with subfolders having extension"
   ]
  },
  {
   "cell_type": "code",
   "execution_count": 15,
   "id": "7f07d923",
   "metadata": {},
   "outputs": [
    {
     "data": {
      "text/plain": [
       "['C:\\\\python\\\\1.pdf',\n",
       " 'C:\\\\python\\\\2.pdf',\n",
       " 'C:\\\\python\\\\credit.pdf',\n",
       " 'C:\\\\python\\\\example.pdf',\n",
       " 'C:\\\\python\\\\merge.pdf',\n",
       " 'C:\\\\python\\\\merge_du.pdf',\n",
       " 'C:\\\\python\\\\offense.pdf',\n",
       " 'C:\\\\python\\\\rotated_example.pdf',\n",
       " 'C:\\\\python\\\\rotate_pdf.pdf',\n",
       " 'C:\\\\python\\\\vsk.pdf',\n",
       " 'C:\\\\python\\\\rec\\\\rotated_example.pdf',\n",
       " 'C:\\\\python\\\\rec\\\\rotate_pdf.pdf']"
      ]
     },
     "execution_count": 15,
     "metadata": {},
     "output_type": "execute_result"
    }
   ],
   "source": [
    "import glob \n",
    "path=\"C:\\\\python\"\n",
    "glob.glob(\"C:\\\\python\\**\\*.pdf\",recursive=True) # serach in path along with subfolders"
   ]
  },
  {
   "cell_type": "markdown",
   "id": "6a2c74b6",
   "metadata": {},
   "source": [
    "# search file with staring string and one or more extension of string"
   ]
  },
  {
   "cell_type": "code",
   "execution_count": 27,
   "id": "255104ec",
   "metadata": {},
   "outputs": [
    {
     "data": {
      "text/plain": [
       "['C:\\\\python\\\\rotated_example.pdf', 'C:\\\\python\\\\rotate_pdf.pdf']"
      ]
     },
     "execution_count": 27,
     "metadata": {},
     "output_type": "execute_result"
    }
   ],
   "source": [
    "import glob \n",
    "path=\"C:\\\\python\"\n",
    "glob.glob(\"C:\\\\python\\\\r*?.pdf\",recursive=True)"
   ]
  },
  {
   "cell_type": "code",
   "execution_count": 30,
   "id": "3dfbacd9",
   "metadata": {},
   "outputs": [
    {
     "data": {
      "text/plain": [
       "['C:\\\\python\\\\rotated_example.pdf',\n",
       " 'C:\\\\python\\\\rotate_pdf.pdf',\n",
       " 'C:\\\\python\\\\rec\\\\rotated_example.pdf',\n",
       " 'C:\\\\python\\\\rec\\\\rotate_pdf.pdf']"
      ]
     },
     "execution_count": 30,
     "metadata": {},
     "output_type": "execute_result"
    }
   ],
   "source": [
    "#search along with sufolders\n",
    "import glob \n",
    "path=\"C:\\\\python\"\n",
    "glob.glob(\"C:\\\\python\\\\**\\\\r*?.pdf\",recursive=True) #  *-all ?-one or more extension"
   ]
  },
  {
   "cell_type": "code",
   "execution_count": null,
   "id": "b0a06d24",
   "metadata": {},
   "outputs": [],
   "source": []
  }
 ],
 "metadata": {
  "kernelspec": {
   "display_name": "Python 3",
   "language": "python",
   "name": "python3"
  },
  "language_info": {
   "codemirror_mode": {
    "name": "ipython",
    "version": 3
   },
   "file_extension": ".py",
   "mimetype": "text/x-python",
   "name": "python",
   "nbconvert_exporter": "python",
   "pygments_lexer": "ipython3",
   "version": "3.8.9"
  }
 },
 "nbformat": 4,
 "nbformat_minor": 5
}
